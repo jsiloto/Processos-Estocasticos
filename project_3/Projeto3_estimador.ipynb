{
 "cells": [
  {
   "cell_type": "code",
   "execution_count": null,
   "metadata": {},
   "outputs": [],
   "source": [
    "from scipy.io import wavfile\n",
    "from matplotlib import pyplot as plt\n",
    "import numpy as np\n",
    "import librosa"
   ]
  },
  {
   "cell_type": "code",
   "execution_count": null,
   "metadata": {},
   "outputs": [],
   "source": [
    "# Load the data and calculate the time of each sample\n",
    "e_data, e_samplerate  = librosa.load('elefante.wav')\n",
    "b_data, b_samplerate = librosa.load('Garrafa.wav')\n",
    "\n",
    "print(e_data)\n",
    "\n",
    "r_data = np.convolve(e_data, b_data)\n",
    "r_data /= np.max(np.abs(r_data),axis=0)\n",
    "print(r)\n",
    "plt.plot(e_data)\n",
    "plt.plot(b_data)\n",
    "plt.show()\n",
    "plt.plot(r)\n",
    "wavfile.write(data=r_data, rate=e_samplerate, filename='elefante_na_garrafa.wav')"
   ]
  },
  {
   "cell_type": "code",
   "execution_count": null,
   "metadata": {},
   "outputs": [],
   "source": [
    "import IPython.display as ipd\n",
    "ipd.Audio('elefante_na_garrafa.wav') # load a local WAV file"
   ]
  },
  {
   "cell_type": "code",
   "execution_count": null,
   "metadata": {},
   "outputs": [],
   "source": []
  }
 ],
 "metadata": {
  "kernelspec": {
   "display_name": "Python 3",
   "language": "python",
   "name": "python3"
  },
  "language_info": {
   "codemirror_mode": {
    "name": "ipython",
    "version": 3
   },
   "file_extension": ".py",
   "mimetype": "text/x-python",
   "name": "python",
   "nbconvert_exporter": "python",
   "pygments_lexer": "ipython3",
   "version": "3.6.5"
  }
 },
 "nbformat": 4,
 "nbformat_minor": 2
}
