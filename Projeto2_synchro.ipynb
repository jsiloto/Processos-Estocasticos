{
 "cells": [
  {
   "cell_type": "code",
   "execution_count": 1,
   "metadata": {},
   "outputs": [],
   "source": [
    "import numpy as np\n",
    "import matplotlib.pyplot as plt\n",
    "\n",
    "% matplotlib notebook"
   ]
  },
  {
   "cell_type": "markdown",
   "metadata": {},
   "source": [
    "Considere um canal de comunicações cuja entrada é um sinal $x[k]$ e cuja saída é um sinal $r[k] = x[k-\\delta] + n[k]$. Ou seja, a saída é uma versão ruidosa e atrasada da entrada. Seu objetivo aqui é determinar o valor do atraso $\\delta$.\n",
    "\n",
    "Para isso, vamos fazer algumas hipóteses. O sinal transmitido será composto de 10 valores consecutivos iguas a 1, sendo o restante igual a zero."
   ]
  },
  {
   "cell_type": "code",
   "execution_count": 3,
   "metadata": {},
   "outputs": [
    {
     "data": {
      "text/plain": [
       "<Container object of 3 artists>"
      ]
     },
     "execution_count": 3,
     "metadata": {},
     "output_type": "execute_result"
    },
    {
     "data": {
      "image/png": "[encoded data removed]",
      "text/plain": [
       "<matplotlib.figure.Figure at 0x7f0a2cdef6a0>"
      ]
     },
     "metadata": {},
     "output_type": "display_data"
    }
   ],
   "source": [
    "x = np.ones(10)\n",
    "plt.stem(x)"
   ]
  },
  {
   "cell_type": "markdown",
   "metadata": {},
   "source": [
    "A segunda hipótese é que o atraso é aleatório, sendo modelado como uma variável aleatória uniformemente distribuída entre 0 e 100 amostras."
   ]
  },
  {
   "cell_type": "code",
   "execution_count": 6,
   "metadata": {},
   "outputs": [],
   "source": [
    "d = np.random.randint(0, 100 + 1)"
   ]
  },
  {
   "cell_type": "markdown",
   "metadata": {},
   "source": [
    "Finalmente, vamos assumir que o ruído é normal, com média zero e variância $\\sigma^2$, independente e identicamente distruído.\n",
    "\n",
    "Observe que, como o atraso varia de 1 a cem amostras, é necessário observar uma janela 111 amostras do sinal recebido para termos certeza de que o sinal x foi observado dentro da janela."
   ]
  },
  {
   "cell_type": "code",
   "execution_count": 12,
   "metadata": {},
   "outputs": [
    {
     "data": {
      "text/plain": [
       "<Container object of 3 artists>"
      ]
     },
     "execution_count": 12,
     "metadata": {},
     "output_type": "execute_result"
    },
    {
     "data": {
      "image/png": "[encoded data removed]",
      "text/plain": [
       "<matplotlib.figure.Figure at 0x7f0a2c9ee9b0>"
      ]
     },
     "metadata": {},
     "output_type": "display_data"
    }
   ],
   "source": [
    "sigma = .5\n",
    "r = sigma*np.random.randn(111)\n",
    "r[d:(d+10)] += x\n",
    "plt.stem(r)"
   ]
  },
  {
   "cell_type": "code",
   "execution_count": null,
   "metadata": {},
   "outputs": [],
   "source": []
  },
  {
   "cell_type": "markdown",
   "metadata": {},
   "source": [
    "Para determinar o atraso, você vai usar uma estratégia chamada máximo a posteriori: o valor de $\\delta$ é aquele que é o mais provável no mundo em que o sinal $r[k]$ é observado. Para facilitar nossa notação, seja $\\mathbf{r}$ um vetor contendo todas as 111 amostras de $r[k]$. Assim, o valor de $\\delta$ será dado por \n",
    "\n",
    "$$\\delta_{\\mathrm{ótimo}} = \\arg\\max_{\\delta} p_{\\Delta|\\mathbf{R}}(\\delta|\\mathbf{r})$$\n",
    "\n",
    "Determine e implemente este detector. Busque fazer o maior número possível de simplificações. Você verá que existem diversas probabilidades e diversas funções que não precisam ser calculadas.\n",
    "\n",
    "Imagine agora que o valor de $\\delta$ seja 10. Calcule analiticamente e por simulação a probabilidade de seu detector ''preferir'' o valor de $\\delta = 11$ ao invés do valor correto. Ou seja, calcule a probabilidade de $p_{\\Delta|\\mathbf{R}}(11|\\mathbf{R}) > p_{\\Delta|\\mathbf{R}}(10|\\mathbf{R})$."
   ]
  },
  {
   "cell_type": "markdown",
   "metadata": {},
   "source": [
    "## Solução da Parte I\n",
    "\n",
    "Usando teorema de Bayes\n",
    "\n",
    "$$\n",
    "\\delta_{\\mathrm{ótimo}} = \\arg\\max_{\\delta} p_{\\Delta|\\mathbf{R}}(\\delta|\\mathbf{r})\n",
    " = \\arg\\max_{\\delta} \n",
    "    \\frac {p_{\\mathbf{R}|\\Delta}(\\mathbf{r}|\\delta) p_{\\Delta}(\\delta)}\n",
    "          {\\sum_{\\delta} p_{\\mathbf{R}|\\Delta}(\\mathbf{r}|\\delta) p_{\\Delta}(\\delta) }\n",
    "$$\n",
    "\n",
    "Como procuramos o maximo, tiramos todos os termos constantes:\n",
    "\n",
    "$$\\delta_{\\mathrm{ótimo}} = \\arg\\max_{\\delta} p_{\\mathbf{R}|\\Delta}(\\mathbf{r}|\\delta) $$\n",
    "\n",
    "\n",
    "Em nosso modelo, para dados $\\delta$ e $\\sigma^2$ temos:\n",
    "\n",
    "$$ p_{\\mathbf{R}|\\Delta}(\\mathbf{r}|\\delta) \n",
    "= \\frac{1}{\\sqrt{(2\\pi \\sigma^2)^n}} \n",
    "  \\exp\\left(-\\frac{1}{2\\sigma^2}({r}-{\\mu_{\\delta}})^T({r}-{\\mu_{\\delta}})\\right) \n",
    "= \\frac{1}{\\sqrt{(2\\pi \\sigma^2)^n}} \n",
    "  \\exp\\left(-\\frac{1}{2\\sigma^2}(\\sum_{}(r - \\mu_{\\delta})^2)\\right)  \n",
    "$$\n",
    "\n",
    "onde \n",
    "$$ \\mu_{\\delta}[k]=1, k=\\delta, ..., \\delta+9 $$\n",
    "$$\\mu_{\\delta}[k]=0, caso contrario$$\n",
    "\n",
    "Simplificando:\n",
    "\n",
    "$$\n",
    "\\begin{aligned}\n",
    "\\delta_{\\mathrm{ótimo}} &= \\arg\\max_{\\delta} p_{\\mathbf{R}|\\Delta}(\\mathbf{r}|\\delta) \\\\\n",
    "\\delta_{\\mathrm{ótimo}}\n",
    "&= \\arg\\max_{\\delta} \\frac{1}{\\sqrt{(2\\pi \\sigma^2)^n}} \n",
    "  \\exp\\left(-\\frac{1}{2\\sigma^2}(\\sum_{}(r - \\mu_{\\delta})^2)\\right) \\\\\n",
    "\\delta_{\\mathrm{ótimo}} &= \\arg\\min_{\\delta} \\sum_{}(r - \\mu_{\\delta})^2\n",
    "\\end{aligned}\n",
    "$$\n",
    "\n",
    "\n"
   ]
  },
  {
   "cell_type": "code",
   "execution_count": 115,
   "metadata": {},
   "outputs": [
    {
     "name": "stdout",
     "output_type": "stream",
     "text": [
      "Delta: 25\n",
      "Predicted Delta: 25\n"
     ]
    },
    {
     "data": {
      "image/png": "[encoded data removed]",
      "text/plain": [
       "<Figure size 432x288 with 1 Axes>"
      ]
     },
     "metadata": {
      "needs_background": "light"
     },
     "output_type": "display_data"
    },
    {
     "data": {
      "image/png": "[encoded data removed]",
      "text/plain": [
       "<Figure size 432x288 with 1 Axes>"
      ]
     },
     "metadata": {
      "needs_background": "light"
     },
     "output_type": "display_data"
    }
   ],
   "source": [
    "# Simulação:\n",
    "def score(r, sigma):\n",
    "    s = []\n",
    "    for delta in range(0, 100):\n",
    "        h = np.zeros(111)\n",
    "        h[delta:(delta+10)] +=sigma\n",
    "        s.append(np.sum((np.subtract(r, h))**2))\n",
    "    return s\n",
    "\n",
    "\n",
    "d = np.random.randint(0, 100 + 1)\n",
    "print(\"Delta: {}\".format(d))\n",
    "\n",
    "sigma = .5\n",
    "r = sigma*np.random.randn(111)\n",
    "r[d:(d+10)] += x\n",
    "\n",
    "\n",
    "s = score(r, sigma)\n",
    "print(\"Predicted Delta: {}\".format(np.argmin(s)))\n",
    "plt.stem(r)\n",
    "plt.show()\n",
    "plt.stem(s)\n",
    "plt.show()\n"
   ]
  },
  {
   "cell_type": "markdown",
   "metadata": {},
   "source": [
    "## Solução Parte II\n",
    "\n",
    "$$ \n",
    "\\begin{aligned}\n",
    "p_{\\mathbf{R}}(p_{\\Delta|\\mathbf{R}}(11|\\mathbf{R}) > p_{\\Delta|\\mathbf{R}}(10|\\mathbf{R})) \n",
    "&= p_{\\mathbf{R}}(\\sum_{}(\\mathbf{R} - \\mu_{11})^2 < \\sum_{}(\\mathbf{R} - \\mu_{10})^2) \\\\\n",
    "&= p_{\\mathbf{R}}(\\sum_{}(\\mathbf{R} - \\mu_{11})^2 - \\sum_{}(\\mathbf{R} - \\mu_{10})^2 < 0 )\\\\\n",
    "&= p_{\\mathbf{R}}(\n",
    "    (\\mathbf{R}[10] - \\mu_{11}[10])^2 + \n",
    "    (\\mathbf{R}[20] - \\mu_{11}[20])^2 -\n",
    "    (\\mathbf{R}[10] - \\mu_{10}[10])^2 -\n",
    "    (\\mathbf{R}[20] - \\mu_{10}[20])^2 < 0 )\\\\\n",
    "&=  p_{}(\n",
    "    \\mathcal{N}(1, \\sigma^2)^2 + \n",
    "    \\mathcal{N}(-1, \\sigma^2)^2 -\n",
    "    \\mathcal{N}(0, \\sigma^2)^2 -\n",
    "    \\mathcal{N}(0, \\sigma^2)^2 < 0)\n",
    "\\end{aligned}\n",
    "$$\n"
   ]
  },
  {
   "cell_type": "code",
   "execution_count": 167,
   "metadata": {},
   "outputs": [
    {
     "name": "stdout",
     "output_type": "stream",
     "text": [
      "Analitical probability by sampling: 0.0669\n",
      "Experimental probability by sampling: 0.0753\n"
     ]
    }
   ],
   "source": [
    "# Comparação da solução analitica com experimental em 10000 amostras\n",
    "num_samples = 10000\n",
    "sigma = .5\n",
    "delta = 10\n",
    "\n",
    "def analitic_solution_sample(sigma=0.5):\n",
    "    z = (+ np.random.normal(1, sigma)**2 + np.random.normal(-1, sigma)**2\n",
    "         - np.random.normal(0, sigma)**2 - np.random.normal(0, sigma)**2 )\n",
    "    return z < 0\n",
    "\n",
    "def numeric_solution_sample(delta=10, sigma=0.5):\n",
    "    x = np.ones(10)\n",
    "    r = sigma*np.random.randn(111)\n",
    "    r[delta:(delta+10)] += x\n",
    "    s = score(r, sigma)\n",
    "    z = s[delta+1] - s[delta]\n",
    "    return z < 0\n",
    "\n",
    "j = sum(analitic_solution_sample(sigma) for i in range(num_samples))\n",
    "print(\"Analitical probability by sampling: {}\".format(j/num_samples))\n",
    "\n",
    "j = sum(numeric_solution_sample(delta, sigma) for i in range(num_samples))\n",
    "print(\"Experimental probability by sampling: {}\".format(j/num_samples))\n",
    "\n",
    "\n"
   ]
  }
 ],
 "metadata": {
  "kernelspec": {
   "display_name": "Python 3",
   "language": "python",
   "name": "python3"
  },
  "language_info": {
   "codemirror_mode": {
    "name": "ipython",
    "version": 3
   },
   "file_extension": ".py",
   "mimetype": "text/x-python",
   "name": "python",
   "nbconvert_exporter": "python",
   "pygments_lexer": "ipython3",
   "version": "3.5.2"
  }
 },
 "nbformat": 4,
 "nbformat_minor": 2
}
